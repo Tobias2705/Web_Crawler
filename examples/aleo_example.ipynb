{
 "cells": [
  {
   "cell_type": "code",
   "execution_count": 2,
   "metadata": {},
   "outputs": [
    {
     "name": "stdout",
     "output_type": "stream",
     "text": [
      "['PL72 1010 0039 1020 0003 1010 1102', 'PL66 1010 0039 1020 0003 1001 1000', 'PL52 1010 0039 1020 0003 1000 0000', 'PL92 1050 0086 1000 0090 3036 2637', 'PL84 1050 0086 1000 0090 3036 2587', 'PL62 1050 0086 1000 0090 3036 2595', 'PL40 1050 0086 1000 0090 3036 2603', 'PL18 1050 0086 1000 0090 3036 2611', 'PL17 1050 0086 1000 0090 3036 2629']\n",
      "[]\n"
     ]
    }
   ],
   "source": [
    "from AleoScrapper import get_href_links\n",
    "\n",
    "account_numbers, shareholders = get_href_links('5250007738')\n",
    "\n",
    "print(account_numbers)\n",
    "print(shareholders)"
   ]
  }
 ],
 "metadata": {
  "kernelspec": {
   "display_name": "Python 3",
   "language": "python",
   "name": "python3"
  },
  "language_info": {
   "codemirror_mode": {
    "name": "ipython",
    "version": 3
   },
   "file_extension": ".py",
   "mimetype": "text/x-python",
   "name": "python",
   "nbconvert_exporter": "python",
   "pygments_lexer": "ipython3",
   "version": "3.11.2"
  },
  "orig_nbformat": 4
 },
 "nbformat": 4,
 "nbformat_minor": 2
}
