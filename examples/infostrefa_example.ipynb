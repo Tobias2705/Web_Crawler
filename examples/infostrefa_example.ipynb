{
 "cells": [
  {
   "cell_type": "code",
   "execution_count": 4,
   "id": "5a599b24",
   "metadata": {
    "ExecuteTime": {
     "end_time": "2023-04-26T17:31:14.388228Z",
     "start_time": "2023-04-26T17:30:03.824309Z"
    },
    "pycharm": {
     "name": "#%%\n"
    }
   },
   "outputs": [],
   "source": [
    "from infostrefa_scrapper import InfoStrefaScrapper\n",
    "import pandas as pd\n",
    "\n",
    "entities = [\n",
    "    {'nazwa': 'PKOBP', 'nip': '5250007738'},\n",
    "    {'nazwa': 'CD PROJEKT SPÓŁKA AKCYJNA', 'nip': '7342867148'}\n",
    "]\n",
    "entities_data = pd.DataFrame(entities)\n",
    "scrapper = InfoStrefaScrapper(entities_data)\n",
    "news = scrapper.get_data()"
   ]
  },
  {
   "cell_type": "code",
   "execution_count": 5,
   "id": "07624e31",
   "metadata": {
    "ExecuteTime": {
     "end_time": "2023-04-26T17:31:16.936852Z",
     "start_time": "2023-04-26T17:31:16.884864Z"
    },
    "pycharm": {
     "name": "#%%\n"
    }
   },
   "outputs": [
    {
     "data": {
      "text/plain": "Empty DataFrame\nColumns: [nip, data, wiadomosc]\nIndex: []",
      "text/html": "<div>\n<style scoped>\n    .dataframe tbody tr th:only-of-type {\n        vertical-align: middle;\n    }\n\n    .dataframe tbody tr th {\n        vertical-align: top;\n    }\n\n    .dataframe thead th {\n        text-align: right;\n    }\n</style>\n<table border=\"1\" class=\"dataframe\">\n  <thead>\n    <tr style=\"text-align: right;\">\n      <th></th>\n      <th>nip</th>\n      <th>data</th>\n      <th>wiadomosc</th>\n    </tr>\n  </thead>\n  <tbody>\n  </tbody>\n</table>\n</div>"
     },
     "execution_count": 5,
     "metadata": {},
     "output_type": "execute_result"
    }
   ],
   "source": [
    "news"
   ]
  },
  {
   "cell_type": "code",
   "execution_count": null,
   "outputs": [],
   "source": [],
   "metadata": {
    "collapsed": false,
    "pycharm": {
     "name": "#%%\n"
    }
   }
  },
  {
   "cell_type": "code",
   "execution_count": 22,
   "id": "88c636c9",
   "metadata": {
    "pycharm": {
     "name": "#%%\n"
    }
   },
   "outputs": [
    {
     "data": {
      "text/plain": [
       "'\"Syriusz, to dla nas kompletnie nowy projekt w kontekście designu i produkcji. Zależy nam na rozwoju, ale czasem trzeba przedefiniować swoje pomysły. Syriusz zostanie stworzony wedle nowych ram. To była ciężka decyzja, ale wierzymy, że słuszna\" - powiedział prezes CD Projektu, Adam Kiciński.\\n\\nCD Projekt informował w ubiegłym tygodniu o odpisie 42,9 mln zł z projektu Syriusz. Za grę odpowiedzialne jest bostońskie studio spółki - The Molasses Flood.\\n\\nWiceprezes Nielubowicz zapewnił, że innym grom, zapowiedzianym w zeszłorocznej strategii, nie grożą odpisy.\\n\\n\"Nie widzimy żadnego ryzyka do odpisu w projektach Polaris, Canis Majoris i Orionie, to dla nas kluczowe gry\" - powiedział Piotr Nielubowicz.\\n\\nPrzestawiciele CD Projektu zapowiedzieli dalsze finansowanie działalności spółki ze środków własnych. \\n\\nCzłonkowie zarządu podkreślili, że podstawowym czynnikiem produkcji wysokiej jakości gier, jest przyciąganie największych talentów z branży. Dlatego spółka zdecydowała się na wprowadzenie bardziej klarownego systemu płac.\\n\\n\"By zdobyć najlepszych musimy mieć też dobre i jasne płace, zdecydowaliśmy się na podwyżki, pomijając wyrównania inflacyjne. W styczniu przemodelowaliśmy naszą politykę wynagrodzeń, tak by pracownicy wiedzieli, ile będą zarabiać, nie biorąc pod uwagę wyników finansowych spółki\" - powiedział wiceprezes ds. finansowych Piotr Nielubowicz. \\n\\n\"Płaca zasadnicza będzie rosła jeszcze szybciej, bowiem w wynagrodzeniach są również uwzględnione premie\" - dodał.\\n\\nW tym roku CD Projekt koncentruje się na wydaniu DLC \"Cyberpunk 2077: Phantom Liberty\".\\n\\n\"Premiera +Cyberpunk 2077: Phantom Liberty+ jest dla nas najważniejszym wydarzeniem tego roku. Nie porównujmy jednak kampanii marketingowej dodatku do gry z kampaniami pełnych wersji gier AAA\" - powiedział członek zarządu ds. kształtowania i realizacji polityki sprzedażowej i wydawniczej, Michał Nowakowski.\\n\\nW prezentacji spółka zapowiedziała na czerwiec start dużej akcji marketingowej dotyczącej dodatku do \"Cyberpunk 2077\". CD Projekt utrzymuje, że dobra premiera dodatku pomoże wydłużyć ogon sprzedażowy podstawowej wersji gry.\\n\\nW zeszłym roku spółka zapowiedziała wydanie edycji kompletnej \"Cyberpunk 2077\" wraz z dodatkiem \"Phantom Liberty\". Z wcześniejszych zapowiedzi wynika również, że CD Projekt szykuje jeszcze jedną dużą aktualizację gry.\\n \\nZysk netto CD Projektu w czwartym kwartale 2022 roku wyniósł 134,6 mln zł i jest o 5 proc. wyższy od konsensusu PAP Biznes. EBITDA CD Projektu w IV kw. wyniosła 165,4 mln zł i jest zgodna z konsensusem. Z kolei przychody grupy sięgnęły 347 mln zł i były 3 proc. wyższe od oczekiwań analityków.\\n\\nSpółka poinformowała, że 2022 rok był pod względem finansowym drugim najlepszym rokiem w historii CD Projektu. (PAP Biznes)\\n\\nmcb/ gor/\\nDepesza pochodzi z pełnej wersji serwisu biznes.pap.pl\\n'"
      ]
     },
     "execution_count": 22,
     "metadata": {},
     "output_type": "execute_result"
    }
   ],
   "source": [
    "news.iloc[25].wiadomosc"
   ]
  },
  {
   "cell_type": "code",
   "execution_count": null,
   "id": "bb21d369",
   "metadata": {
    "pycharm": {
     "name": "#%%\n"
    }
   },
   "outputs": [],
   "source": []
  }
 ],
 "metadata": {
  "kernelspec": {
   "display_name": "Python 3 (ipykernel)",
   "language": "python",
   "name": "python3"
  },
  "language_info": {
   "codemirror_mode": {
    "name": "ipython",
    "version": 3
   },
   "file_extension": ".py",
   "mimetype": "text/x-python",
   "name": "python",
   "nbconvert_exporter": "python",
   "pygments_lexer": "ipython3",
   "version": "3.10.7"
  }
 },
 "nbformat": 4,
 "nbformat_minor": 5
}