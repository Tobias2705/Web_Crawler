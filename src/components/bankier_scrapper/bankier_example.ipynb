{
 "cells": [
  {
   "cell_type": "code",
   "execution_count": 1,
   "id": "5a599b24",
   "metadata": {
    "ExecuteTime": {
     "start_time": "2023-05-14T16:34:16.790726Z",
     "end_time": "2023-05-14T16:35:46.833343Z"
    }
   },
   "outputs": [
    {
     "name": "stdout",
     "output_type": "stream",
     "text": [
      "          nip              data   \n",
      "0   CDPROJEKT  2016-08-25 09:39  \\\n",
      "1   CDPROJEKT  2023-05-14 12:25   \n",
      "2   CDPROJEKT  2023-05-13 22:09   \n",
      "3   CDPROJEKT  2023-05-14 13:42   \n",
      "4   CDPROJEKT  2023-05-14 07:01   \n",
      "5   CDPROJEKT  2023-05-12 12:31   \n",
      "6   CDPROJEKT  2023-05-12 14:56   \n",
      "7   CDPROJEKT  2023-05-12 18:29   \n",
      "8   CDPROJEKT  2023-05-13 09:47   \n",
      "9   CDPROJEKT  2023-05-13 07:32   \n",
      "10  CDPROJEKT  2023-05-13 20:38   \n",
      "11  CDPROJEKT  2023-05-12 13:47   \n",
      "12  CDPROJEKT  2023-05-13 10:27   \n",
      "13  CDPROJEKT  2023-04-02 23:27   \n",
      "14  CDPROJEKT  2023-05-13 11:56   \n",
      "15  CDPROJEKT  2023-05-13 13:17   \n",
      "16  CDPROJEKT  2023-05-12 18:54   \n",
      "17  CDPROJEKT  2023-05-13 11:20   \n",
      "18  CDPROJEKT  2023-05-12 22:13   \n",
      "19  CDPROJEKT  2023-05-12 21:26   \n",
      "20  CDPROJEKT  2023-05-13 08:13   \n",
      "21  CDPROJEKT  2023-04-02 21:35   \n",
      "22  CDPROJEKT  2023-05-12 23:44   \n",
      "23  CDPROJEKT  2023-05-12 19:59   \n",
      "24  CDPROJEKT  2023-05-12 20:46   \n",
      "25  CDPROJEKT  2023-04-07 22:30   \n",
      "26  CDPROJEKT  2023-05-12 18:43   \n",
      "27  CDPROJEKT  2023-05-11 16:02   \n",
      "28  CDPROJEKT  2023-05-12 17:19   \n",
      "29  CDPROJEKT  2023-05-12 18:20   \n",
      "\n",
      "                                            wiadomosc  \n",
      "0   http://schooloftrading.pl/2016/08/25/cd-projek...  \n",
      "1                                            109? )))  \n",
      "2   Rok 2023 199 zł\\nRok 2024  350zł\\nRok 2025  75...  \n",
      "3   CD Projekt SA (CDR) po sesji -05-05 interwał d...  \n",
      "4   TAK... ZDECYDOWANIE TAK... TO JEST TEN MOMENT....  \n",
      "5      głębokoUbrane payace lubią gdy się ich dryluje  \n",
      "6    niestetyUbrane payace lubią, gdy się ich dryluje  \n",
      "7   W tej chwiliKupiłem po 119 wczoraj i wywaliłem...  \n",
      "8   Nikt nie chce sprzedać po obecnej cenie, jak k...  \n",
      "9   Pewne takZaufaj mi, NIE, trolu :)A może podsko...  \n",
      "10                  Premiera gry.\\nDywidenda.\\nC/Z 14  \n",
      "11  Wiedźmin 4, wiedźmin remasterd, Cyberpunk napr...  \n",
      "12  Zacny Akcjonariuszy CD Projekt podziel się w t...  \n",
      "13  Mam juz dosc czytania kolejnych bredni na tym ...  \n",
      "14  jak myślicie ??Po 0, wezwania nie będzieTeż pr...  \n",
      "15  Tak dobre info a kurs stoi w miejscu, tutaj po...  \n",
      "16  Ta firma to jakaś tragedia a ich tempo pracy n...  \n",
      "17                    youtube.com/watch?v=utO3w98GMN4  \n",
      "18  Wzrosty o to jest pytanie. CDP najbardziej sho...  \n",
      "19  116.20 wczoraj. 500 Akcji. Dziękuję. Terz czek...  \n",
      "20  czas było przywyknąć jak mawiała stara Pawlako...  \n",
      "21  Z CD Projekt na przestrzeni lat odeszło wielu ...  \n",
      "22  Event POP UP SHOP - powiązany tematycznie z Wi...  \n",
      "23  w dobrej kondycji. Od poniedziałku do środy by...  \n",
      "24  Dobre wieści z CD Projektu. Odwrócenie części ...  \n",
      "25  Gdyby CD Projekt był taką okazją,jak to piszec...  \n",
      "26  Z fundami nie ma szans , myślę że docisnąć do ...  \n",
      "27  Dojadą washttps://www.stockwatch.pl/wiadomosci...  \n",
      "28  Jwjeszcze chwila i nic im nie pomoze. Mysle ze...  \n",
      "29  https://www.google.pl/amp/s/gry.interia.pl/new...  \n"
     ]
    }
   ],
   "source": [
    "from bankier_scrapper import BankierScraper\n",
    "import pandas as pd\n",
    "\n",
    "entities = [\n",
    "    {'nazwa_gieldowa': 'CDPROJEKT', 'nip': '7342867148'}\n",
    "]\n",
    "entities_data = pd.DataFrame(entities)\n",
    "scrapper = BankierScraper(entities_data)\n",
    "news = scrapper.get_data()"
   ]
  },
  {
   "cell_type": "code",
   "execution_count": 2,
   "id": "07624e31",
   "metadata": {
    "ExecuteTime": {
     "start_time": "2023-05-14T16:35:46.835342Z",
     "end_time": "2023-05-14T16:35:46.879230Z"
    }
   },
   "outputs": [
    {
     "data": {
      "text/plain": "          nip              data   \n0   CDPROJEKT  2016-08-25 09:39  \\\n1   CDPROJEKT  2023-05-14 12:25   \n2   CDPROJEKT  2023-05-13 22:09   \n3   CDPROJEKT  2023-05-14 13:42   \n4   CDPROJEKT  2023-05-14 07:01   \n5   CDPROJEKT  2023-05-12 12:31   \n6   CDPROJEKT  2023-05-12 14:56   \n7   CDPROJEKT  2023-05-12 18:29   \n8   CDPROJEKT  2023-05-13 09:47   \n9   CDPROJEKT  2023-05-13 07:32   \n10  CDPROJEKT  2023-05-13 20:38   \n11  CDPROJEKT  2023-05-12 13:47   \n12  CDPROJEKT  2023-05-13 10:27   \n13  CDPROJEKT  2023-04-02 23:27   \n14  CDPROJEKT  2023-05-13 11:56   \n15  CDPROJEKT  2023-05-13 13:17   \n16  CDPROJEKT  2023-05-12 18:54   \n17  CDPROJEKT  2023-05-13 11:20   \n18  CDPROJEKT  2023-05-12 22:13   \n19  CDPROJEKT  2023-05-12 21:26   \n20  CDPROJEKT  2023-05-13 08:13   \n21  CDPROJEKT  2023-04-02 21:35   \n22  CDPROJEKT  2023-05-12 23:44   \n23  CDPROJEKT  2023-05-12 19:59   \n24  CDPROJEKT  2023-05-12 20:46   \n25  CDPROJEKT  2023-04-07 22:30   \n26  CDPROJEKT  2023-05-12 18:43   \n27  CDPROJEKT  2023-05-11 16:02   \n28  CDPROJEKT  2023-05-12 17:19   \n29  CDPROJEKT  2023-05-12 18:20   \n\n                                            wiadomosc  \n0   http://schooloftrading.pl/2016/08/25/cd-projek...  \n1                                            109? )))  \n2   Rok 2023 199 zł\\nRok 2024  350zł\\nRok 2025  75...  \n3   CD Projekt SA (CDR) po sesji -05-05 interwał d...  \n4   TAK... ZDECYDOWANIE TAK... TO JEST TEN MOMENT....  \n5      głębokoUbrane payace lubią gdy się ich dryluje  \n6    niestetyUbrane payace lubią, gdy się ich dryluje  \n7   W tej chwiliKupiłem po 119 wczoraj i wywaliłem...  \n8   Nikt nie chce sprzedać po obecnej cenie, jak k...  \n9   Pewne takZaufaj mi, NIE, trolu :)A może podsko...  \n10                  Premiera gry.\\nDywidenda.\\nC/Z 14  \n11  Wiedźmin 4, wiedźmin remasterd, Cyberpunk napr...  \n12  Zacny Akcjonariuszy CD Projekt podziel się w t...  \n13  Mam juz dosc czytania kolejnych bredni na tym ...  \n14  jak myślicie ??Po 0, wezwania nie będzieTeż pr...  \n15  Tak dobre info a kurs stoi w miejscu, tutaj po...  \n16  Ta firma to jakaś tragedia a ich tempo pracy n...  \n17                    youtube.com/watch?v=utO3w98GMN4  \n18  Wzrosty o to jest pytanie. CDP najbardziej sho...  \n19  116.20 wczoraj. 500 Akcji. Dziękuję. Terz czek...  \n20  czas było przywyknąć jak mawiała stara Pawlako...  \n21  Z CD Projekt na przestrzeni lat odeszło wielu ...  \n22  Event POP UP SHOP - powiązany tematycznie z Wi...  \n23  w dobrej kondycji. Od poniedziałku do środy by...  \n24  Dobre wieści z CD Projektu. Odwrócenie części ...  \n25  Gdyby CD Projekt był taką okazją,jak to piszec...  \n26  Z fundami nie ma szans , myślę że docisnąć do ...  \n27  Dojadą washttps://www.stockwatch.pl/wiadomosci...  \n28  Jwjeszcze chwila i nic im nie pomoze. Mysle ze...  \n29  https://www.google.pl/amp/s/gry.interia.pl/new...  ",
      "text/html": "<div>\n<style scoped>\n    .dataframe tbody tr th:only-of-type {\n        vertical-align: middle;\n    }\n\n    .dataframe tbody tr th {\n        vertical-align: top;\n    }\n\n    .dataframe thead th {\n        text-align: right;\n    }\n</style>\n<table border=\"1\" class=\"dataframe\">\n  <thead>\n    <tr style=\"text-align: right;\">\n      <th></th>\n      <th>nip</th>\n      <th>data</th>\n      <th>wiadomosc</th>\n    </tr>\n  </thead>\n  <tbody>\n    <tr>\n      <th>0</th>\n      <td>CDPROJEKT</td>\n      <td>2016-08-25 09:39</td>\n      <td>http://schooloftrading.pl/2016/08/25/cd-projek...</td>\n    </tr>\n    <tr>\n      <th>1</th>\n      <td>CDPROJEKT</td>\n      <td>2023-05-14 12:25</td>\n      <td>109? )))</td>\n    </tr>\n    <tr>\n      <th>2</th>\n      <td>CDPROJEKT</td>\n      <td>2023-05-13 22:09</td>\n      <td>Rok 2023 199 zł\\nRok 2024  350zł\\nRok 2025  75...</td>\n    </tr>\n    <tr>\n      <th>3</th>\n      <td>CDPROJEKT</td>\n      <td>2023-05-14 13:42</td>\n      <td>CD Projekt SA (CDR) po sesji -05-05 interwał d...</td>\n    </tr>\n    <tr>\n      <th>4</th>\n      <td>CDPROJEKT</td>\n      <td>2023-05-14 07:01</td>\n      <td>TAK... ZDECYDOWANIE TAK... TO JEST TEN MOMENT....</td>\n    </tr>\n    <tr>\n      <th>5</th>\n      <td>CDPROJEKT</td>\n      <td>2023-05-12 12:31</td>\n      <td>głębokoUbrane payace lubią gdy się ich dryluje</td>\n    </tr>\n    <tr>\n      <th>6</th>\n      <td>CDPROJEKT</td>\n      <td>2023-05-12 14:56</td>\n      <td>niestetyUbrane payace lubią, gdy się ich dryluje</td>\n    </tr>\n    <tr>\n      <th>7</th>\n      <td>CDPROJEKT</td>\n      <td>2023-05-12 18:29</td>\n      <td>W tej chwiliKupiłem po 119 wczoraj i wywaliłem...</td>\n    </tr>\n    <tr>\n      <th>8</th>\n      <td>CDPROJEKT</td>\n      <td>2023-05-13 09:47</td>\n      <td>Nikt nie chce sprzedać po obecnej cenie, jak k...</td>\n    </tr>\n    <tr>\n      <th>9</th>\n      <td>CDPROJEKT</td>\n      <td>2023-05-13 07:32</td>\n      <td>Pewne takZaufaj mi, NIE, trolu :)A może podsko...</td>\n    </tr>\n    <tr>\n      <th>10</th>\n      <td>CDPROJEKT</td>\n      <td>2023-05-13 20:38</td>\n      <td>Premiera gry.\\nDywidenda.\\nC/Z 14</td>\n    </tr>\n    <tr>\n      <th>11</th>\n      <td>CDPROJEKT</td>\n      <td>2023-05-12 13:47</td>\n      <td>Wiedźmin 4, wiedźmin remasterd, Cyberpunk napr...</td>\n    </tr>\n    <tr>\n      <th>12</th>\n      <td>CDPROJEKT</td>\n      <td>2023-05-13 10:27</td>\n      <td>Zacny Akcjonariuszy CD Projekt podziel się w t...</td>\n    </tr>\n    <tr>\n      <th>13</th>\n      <td>CDPROJEKT</td>\n      <td>2023-04-02 23:27</td>\n      <td>Mam juz dosc czytania kolejnych bredni na tym ...</td>\n    </tr>\n    <tr>\n      <th>14</th>\n      <td>CDPROJEKT</td>\n      <td>2023-05-13 11:56</td>\n      <td>jak myślicie ??Po 0, wezwania nie będzieTeż pr...</td>\n    </tr>\n    <tr>\n      <th>15</th>\n      <td>CDPROJEKT</td>\n      <td>2023-05-13 13:17</td>\n      <td>Tak dobre info a kurs stoi w miejscu, tutaj po...</td>\n    </tr>\n    <tr>\n      <th>16</th>\n      <td>CDPROJEKT</td>\n      <td>2023-05-12 18:54</td>\n      <td>Ta firma to jakaś tragedia a ich tempo pracy n...</td>\n    </tr>\n    <tr>\n      <th>17</th>\n      <td>CDPROJEKT</td>\n      <td>2023-05-13 11:20</td>\n      <td>youtube.com/watch?v=utO3w98GMN4</td>\n    </tr>\n    <tr>\n      <th>18</th>\n      <td>CDPROJEKT</td>\n      <td>2023-05-12 22:13</td>\n      <td>Wzrosty o to jest pytanie. CDP najbardziej sho...</td>\n    </tr>\n    <tr>\n      <th>19</th>\n      <td>CDPROJEKT</td>\n      <td>2023-05-12 21:26</td>\n      <td>116.20 wczoraj. 500 Akcji. Dziękuję. Terz czek...</td>\n    </tr>\n    <tr>\n      <th>20</th>\n      <td>CDPROJEKT</td>\n      <td>2023-05-13 08:13</td>\n      <td>czas było przywyknąć jak mawiała stara Pawlako...</td>\n    </tr>\n    <tr>\n      <th>21</th>\n      <td>CDPROJEKT</td>\n      <td>2023-04-02 21:35</td>\n      <td>Z CD Projekt na przestrzeni lat odeszło wielu ...</td>\n    </tr>\n    <tr>\n      <th>22</th>\n      <td>CDPROJEKT</td>\n      <td>2023-05-12 23:44</td>\n      <td>Event POP UP SHOP - powiązany tematycznie z Wi...</td>\n    </tr>\n    <tr>\n      <th>23</th>\n      <td>CDPROJEKT</td>\n      <td>2023-05-12 19:59</td>\n      <td>w dobrej kondycji. Od poniedziałku do środy by...</td>\n    </tr>\n    <tr>\n      <th>24</th>\n      <td>CDPROJEKT</td>\n      <td>2023-05-12 20:46</td>\n      <td>Dobre wieści z CD Projektu. Odwrócenie części ...</td>\n    </tr>\n    <tr>\n      <th>25</th>\n      <td>CDPROJEKT</td>\n      <td>2023-04-07 22:30</td>\n      <td>Gdyby CD Projekt był taką okazją,jak to piszec...</td>\n    </tr>\n    <tr>\n      <th>26</th>\n      <td>CDPROJEKT</td>\n      <td>2023-05-12 18:43</td>\n      <td>Z fundami nie ma szans , myślę że docisnąć do ...</td>\n    </tr>\n    <tr>\n      <th>27</th>\n      <td>CDPROJEKT</td>\n      <td>2023-05-11 16:02</td>\n      <td>Dojadą washttps://www.stockwatch.pl/wiadomosci...</td>\n    </tr>\n    <tr>\n      <th>28</th>\n      <td>CDPROJEKT</td>\n      <td>2023-05-12 17:19</td>\n      <td>Jwjeszcze chwila i nic im nie pomoze. Mysle ze...</td>\n    </tr>\n    <tr>\n      <th>29</th>\n      <td>CDPROJEKT</td>\n      <td>2023-05-12 18:20</td>\n      <td>https://www.google.pl/amp/s/gry.interia.pl/new...</td>\n    </tr>\n  </tbody>\n</table>\n</div>"
     },
     "execution_count": 2,
     "metadata": {},
     "output_type": "execute_result"
    }
   ],
   "source": [
    "news"
   ]
  },
  {
   "cell_type": "code",
   "execution_count": 4,
   "id": "88c636c9",
   "metadata": {
    "ExecuteTime": {
     "start_time": "2023-05-14T16:33:03.210358Z",
     "end_time": "2023-05-14T16:33:03.227815Z"
    }
   },
   "outputs": [
    {
     "data": {
      "text/plain": "'2023-05-11 15:52'"
     },
     "execution_count": 4,
     "metadata": {},
     "output_type": "execute_result"
    }
   ],
   "source": [
    "news.iloc[30].data"
   ]
  },
  {
   "cell_type": "code",
   "execution_count": null,
   "id": "bb21d369",
   "metadata": {},
   "outputs": [],
   "source": []
  }
 ],
 "metadata": {
  "kernelspec": {
   "display_name": "Python 3 (ipykernel)",
   "language": "python",
   "name": "python3"
  },
  "language_info": {
   "codemirror_mode": {
    "name": "ipython",
    "version": 3
   },
   "file_extension": ".py",
   "mimetype": "text/x-python",
   "name": "python",
   "nbconvert_exporter": "python",
   "pygments_lexer": "ipython3",
   "version": "3.10.7"
  }
 },
 "nbformat": 4,
 "nbformat_minor": 5
}
