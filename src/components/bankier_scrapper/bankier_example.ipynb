{
 "cells": [
  {
   "cell_type": "code",
   "execution_count": 1,
   "id": "5a599b24",
   "metadata": {
    "ExecuteTime": {
     "start_time": "2023-05-14T16:34:16.790726Z",
     "end_time": "2023-05-14T16:35:46.833343Z"
    },
    "pycharm": {
     "name": "#%%\n"
    }
   },
   "outputs": [],
   "source": [
    "from bankier_scrapper import BankierScraper\n",
    "import pandas as pd\n",
    "\n",
    "entities = [\n",
    "    {'nazwa_gieldowa': 'CDPROJEKT', 'nip': '7342867148'}\n",
    "]\n",
    "entities_data = pd.DataFrame(entities)\n",
    "scrapper = BankierScraper(entities_data)\n",
    "news = scrapper.get_data()"
   ]
  },
  {
   "cell_type": "code",
   "execution_count": 2,
   "id": "07624e31",
   "metadata": {
    "ExecuteTime": {
     "start_time": "2023-05-14T16:35:46.835342Z",
     "end_time": "2023-05-14T16:35:46.879230Z"
    },
    "pycharm": {
     "name": "#%%\n"
    }
   },
   "outputs": [
    {
     "data": {
      "text/plain": "           nip                                               data  \\\n0   7342867148                                   2023-05-22 16:52   \n1   7342867148                                   2023-05-22 17:14   \n2   7342867148                                   2023-05-22 21:04   \n3   7342867148                                   2023-05-19 11:19   \n4   7342867148                                   2023-04-07 22:30   \n5   7342867148                                   2023-05-17 13:37   \n6   7342867148                                   2023-05-20 18:10   \n7   7342867148                                   2023-05-22 21:24   \n8   7342867148                                   2023-05-22 17:04   \n9   7342867148                                   2023-05-22 21:18   \n10  7342867148                                   2023-05-22 20:38   \n11  7342867148                                   2023-05-14 18:39   \n12  7342867148                                   2023-05-22 20:58   \n13  7342867148                                   2023-05-22 21:02   \n14  7342867148                                   2023-05-22 20:43   \n15  7342867148                                   2023-05-22 20:47   \n16  7342867148                                   2023-05-19 17:20   \n17  7342867148                                   2023-05-22 20:01   \n18  7342867148                                   2023-05-22 17:40   \n19  7342867148                                   2023-05-22 16:36   \n20  7342867148                                   2023-05-22 19:43   \n21  7342867148                                   2023-05-08 22:16   \n22  7342867148                                   2023-05-22 17:07   \n23  7342867148                                   2023-05-22 18:48   \n24  7342867148                                   2023-05-22 18:59   \n25  7342867148                                   2023-05-22 18:50   \n26  7342867148                                   2023-05-10 20:20   \n27  7342867148                                   2023-05-22 18:41   \n28  7342867148                                   2023-05-22 18:26   \n29  7342867148                                   2023-05-22 18:23   \n30  7342867148                                   2023-05-11 15:52   \n31  7342867148                                   2023-05-10 18:41   \n32  7342867148                                   2023-05-10 18:38   \n33  7342867148                                   2023-05-10 18:21   \n34  7342867148                                   2023-05-09 16:19   \n35  7342867148                                   2023-05-08 18:20   \n36  7342867148                                   2023-04-20 18:17   \n37  7342867148                                   2023-04-20 18:14   \n38  7342867148                                   2023-04-18 18:21   \n39  7342867148                                   2023-04-18 17:56   \n40  7342867148                                   2023-04-11 17:45   \n41  7342867148  Michał Kubicki2023-05-16 12:35redaktor Bankier.pl   \n42  7342867148                                   2023-05-11 16:12   \n43  7342867148                                   2023-05-11 02:34   \n44  7342867148             2023-05-10 18:38, akt.2023-05-10 18:42   \n45  7342867148                                   2023-05-08 18:28   \n46  7342867148                                   2023-04-24 09:14   \n47  7342867148                                   2023-04-20 18:46   \n48  7342867148             2023-04-18 10:42, akt.2023-04-18 11:11   \n49  7342867148  Katarzyna Waś-Smarczewska2023-03-31 11:00, akt...   \n50  7342867148  Michał Kubicki2023-03-30 19:10, akt.2023-03-31...   \n51  7342867148                                   2023-03-22 18:30   \n52  7342867148  Michał Kubicki2023-03-20 18:08, akt.2023-03-21...   \n53  7342867148                                   2023-02-28 17:58   \n54  7342867148                                   2023-02-09 09:50   \n55  7342867148                                   2023-01-25 11:02   \n\n                                            wiadomosc  \n0   https://www.google.pl/amp/s/www.wnp.pl/finanse...  \n1   Uciekać kto może i to już , wystawiać zlecenia...  \n2   i zaniżać kurs !!! KNF oczywiście nie robi nic...  \n3   potem zwalomTu już tylko PÓŁNOC!!!Jak ci krótk...  \n4   Gdyby CD Projekt był taką okazją,jak to piszec...  \n5   -DLC 3 lata po premierze. W branży  to powinno...  \n6   Cyberpunk 2077 Phantom Liberty może zadebiutow...  \n7   Oni prawdopodobnie byli tu od dawna i na S (po...  \n8   Czytając wiele wpisów na forum tych poważnych ...  \n9   klękają po tym przed nim i błagają o litość ca...  \n10  Konsensus to  ile ???Konsensus to 9.12 tys. zł...  \n11  Są to ceny docelowe tworzących się właśnie tre...  \n12  Witam, jak myślicie jaki wpływ na kurs będzie ...  \n13  Tymczasem oni już wysypali akcje. Pożyczone ak...  \n14  (wiadomość usunięta przez moderatora)(wiadomoś...  \n15  że tak chcą go sponiewierać. To wygląda jakby ...  \n16  To jest to !Wolałbym od przyszłego roku, chce ...  \n17  U la la lecimy ........lecimy na 270 zł ! jeee...  \n18  I lecimy na 150huehue bo tak napisalaes to tak...  \n19  Na GPW kupuje się spółki z kapitalizacją 200-8...  \n20  (wiadomość usunięta przez moderatora)(wiadomoś...  \n21  Większość drobnych inwestorów nie rozumie,że k...  \n22  Grzegorz Suteniec Dziennikarz Pulsu Biznesu zw...  \n23  sprawdzić , poczytać, zakupić ,zakopać na jaki...  \n24                    125 zł ten kierunek jest obrany  \n25                                     tu na forum :)  \n26  niech oglaszaja wezwanie na akcje bo jak tylko...  \n27              (wiadomość usunięta przez moderatora)  \n28  Czyżby rozszerzenie Cyberpunka to możliwość lo...  \n29  W ciągu ostatnich sesji, setki razy skopiowałe...  \n30   W nawiązaniu do raportu bieżącego nr 8/2023 z...  \n31   Zarząd CD PROJEKT S.A. przekazuje w załączeni...  \n32   Zarząd CD PROJEKT Spółka Akcyjna („Spółka”) n...  \n33   Zarząd CD PROJEKT S.A. z siedzibą w Warszawie...  \n34   Zarząd CD PROJEKT S.A. z siedzibą w Warszawie...  \n35   Zarząd CD PROJEKT S.A. z siedzibą w Warszawie...  \n36   Zarząd CD PROJEKT Spółka Akcyjna z siedzibą w...  \n37   Zarząd CD PROJEKT Spółka Akcyjna z siedzibą w...  \n38   Zarząd Spółki CD PROJEKT Spółka Akcyjna z sie...  \n39   Zarząd Spółki pod firmą CD PROJEKT Spółka Akc...  \n40   Zarząd spółki CD PROJEKT S.A. z siedzibą w Wa...  \n41  Największy polski producent gier zwalnia praco...  \n42  CD Projekt odwróci 21,5 mln zł z odpisu aktual...  \n43  Walne zgromadzenie CD Projekt, zwołane na 6 cz...  \n44  CD Projekt podjął decyzję o rezygnacji z dalsz...  \n45  Zarząd CD Projekt rekomenduje przeznaczenie na...  \n46  Analitycy DM BOŚ, w raporcie miesięcznym z 13 ...  \n47  CD Projekt podpisał plan połączenia ze spółką ...  \n48  Nadzwyczajne walne zgromadzenie CD Projektu \\n...  \n49  Urlop menstruacyjny będzie nowym benefitem pra...  \n50  Największy polski producent gier pokazał wynik...  \n51  Walne zgromadzenie CD Projektu, zwołane na 18 ...  \n52  Gra \"Sirius\", osadzona w uniwersum wiedźmiński...  \n53  Gra CD Projektu „Cyberpunk: 2077” 28 lutego zo...  \n54  Zapraszamy do uczestnictwa w webinarze poświęc...  \n55  Na sektor gamingu w 2023 roku należy patrzeć z...  ",
      "text/html": "<div>\n<style scoped>\n    .dataframe tbody tr th:only-of-type {\n        vertical-align: middle;\n    }\n\n    .dataframe tbody tr th {\n        vertical-align: top;\n    }\n\n    .dataframe thead th {\n        text-align: right;\n    }\n</style>\n<table border=\"1\" class=\"dataframe\">\n  <thead>\n    <tr style=\"text-align: right;\">\n      <th></th>\n      <th>nip</th>\n      <th>data</th>\n      <th>wiadomosc</th>\n    </tr>\n  </thead>\n  <tbody>\n    <tr>\n      <th>0</th>\n      <td>7342867148</td>\n      <td>2023-05-22 16:52</td>\n      <td>https://www.google.pl/amp/s/www.wnp.pl/finanse...</td>\n    </tr>\n    <tr>\n      <th>1</th>\n      <td>7342867148</td>\n      <td>2023-05-22 17:14</td>\n      <td>Uciekać kto może i to już , wystawiać zlecenia...</td>\n    </tr>\n    <tr>\n      <th>2</th>\n      <td>7342867148</td>\n      <td>2023-05-22 21:04</td>\n      <td>i zaniżać kurs !!! KNF oczywiście nie robi nic...</td>\n    </tr>\n    <tr>\n      <th>3</th>\n      <td>7342867148</td>\n      <td>2023-05-19 11:19</td>\n      <td>potem zwalomTu już tylko PÓŁNOC!!!Jak ci krótk...</td>\n    </tr>\n    <tr>\n      <th>4</th>\n      <td>7342867148</td>\n      <td>2023-04-07 22:30</td>\n      <td>Gdyby CD Projekt był taką okazją,jak to piszec...</td>\n    </tr>\n    <tr>\n      <th>5</th>\n      <td>7342867148</td>\n      <td>2023-05-17 13:37</td>\n      <td>-DLC 3 lata po premierze. W branży  to powinno...</td>\n    </tr>\n    <tr>\n      <th>6</th>\n      <td>7342867148</td>\n      <td>2023-05-20 18:10</td>\n      <td>Cyberpunk 2077 Phantom Liberty może zadebiutow...</td>\n    </tr>\n    <tr>\n      <th>7</th>\n      <td>7342867148</td>\n      <td>2023-05-22 21:24</td>\n      <td>Oni prawdopodobnie byli tu od dawna i na S (po...</td>\n    </tr>\n    <tr>\n      <th>8</th>\n      <td>7342867148</td>\n      <td>2023-05-22 17:04</td>\n      <td>Czytając wiele wpisów na forum tych poważnych ...</td>\n    </tr>\n    <tr>\n      <th>9</th>\n      <td>7342867148</td>\n      <td>2023-05-22 21:18</td>\n      <td>klękają po tym przed nim i błagają o litość ca...</td>\n    </tr>\n    <tr>\n      <th>10</th>\n      <td>7342867148</td>\n      <td>2023-05-22 20:38</td>\n      <td>Konsensus to  ile ???Konsensus to 9.12 tys. zł...</td>\n    </tr>\n    <tr>\n      <th>11</th>\n      <td>7342867148</td>\n      <td>2023-05-14 18:39</td>\n      <td>Są to ceny docelowe tworzących się właśnie tre...</td>\n    </tr>\n    <tr>\n      <th>12</th>\n      <td>7342867148</td>\n      <td>2023-05-22 20:58</td>\n      <td>Witam, jak myślicie jaki wpływ na kurs będzie ...</td>\n    </tr>\n    <tr>\n      <th>13</th>\n      <td>7342867148</td>\n      <td>2023-05-22 21:02</td>\n      <td>Tymczasem oni już wysypali akcje. Pożyczone ak...</td>\n    </tr>\n    <tr>\n      <th>14</th>\n      <td>7342867148</td>\n      <td>2023-05-22 20:43</td>\n      <td>(wiadomość usunięta przez moderatora)(wiadomoś...</td>\n    </tr>\n    <tr>\n      <th>15</th>\n      <td>7342867148</td>\n      <td>2023-05-22 20:47</td>\n      <td>że tak chcą go sponiewierać. To wygląda jakby ...</td>\n    </tr>\n    <tr>\n      <th>16</th>\n      <td>7342867148</td>\n      <td>2023-05-19 17:20</td>\n      <td>To jest to !Wolałbym od przyszłego roku, chce ...</td>\n    </tr>\n    <tr>\n      <th>17</th>\n      <td>7342867148</td>\n      <td>2023-05-22 20:01</td>\n      <td>U la la lecimy ........lecimy na 270 zł ! jeee...</td>\n    </tr>\n    <tr>\n      <th>18</th>\n      <td>7342867148</td>\n      <td>2023-05-22 17:40</td>\n      <td>I lecimy na 150huehue bo tak napisalaes to tak...</td>\n    </tr>\n    <tr>\n      <th>19</th>\n      <td>7342867148</td>\n      <td>2023-05-22 16:36</td>\n      <td>Na GPW kupuje się spółki z kapitalizacją 200-8...</td>\n    </tr>\n    <tr>\n      <th>20</th>\n      <td>7342867148</td>\n      <td>2023-05-22 19:43</td>\n      <td>(wiadomość usunięta przez moderatora)(wiadomoś...</td>\n    </tr>\n    <tr>\n      <th>21</th>\n      <td>7342867148</td>\n      <td>2023-05-08 22:16</td>\n      <td>Większość drobnych inwestorów nie rozumie,że k...</td>\n    </tr>\n    <tr>\n      <th>22</th>\n      <td>7342867148</td>\n      <td>2023-05-22 17:07</td>\n      <td>Grzegorz Suteniec Dziennikarz Pulsu Biznesu zw...</td>\n    </tr>\n    <tr>\n      <th>23</th>\n      <td>7342867148</td>\n      <td>2023-05-22 18:48</td>\n      <td>sprawdzić , poczytać, zakupić ,zakopać na jaki...</td>\n    </tr>\n    <tr>\n      <th>24</th>\n      <td>7342867148</td>\n      <td>2023-05-22 18:59</td>\n      <td>125 zł ten kierunek jest obrany</td>\n    </tr>\n    <tr>\n      <th>25</th>\n      <td>7342867148</td>\n      <td>2023-05-22 18:50</td>\n      <td>tu na forum :)</td>\n    </tr>\n    <tr>\n      <th>26</th>\n      <td>7342867148</td>\n      <td>2023-05-10 20:20</td>\n      <td>niech oglaszaja wezwanie na akcje bo jak tylko...</td>\n    </tr>\n    <tr>\n      <th>27</th>\n      <td>7342867148</td>\n      <td>2023-05-22 18:41</td>\n      <td>(wiadomość usunięta przez moderatora)</td>\n    </tr>\n    <tr>\n      <th>28</th>\n      <td>7342867148</td>\n      <td>2023-05-22 18:26</td>\n      <td>Czyżby rozszerzenie Cyberpunka to możliwość lo...</td>\n    </tr>\n    <tr>\n      <th>29</th>\n      <td>7342867148</td>\n      <td>2023-05-22 18:23</td>\n      <td>W ciągu ostatnich sesji, setki razy skopiowałe...</td>\n    </tr>\n    <tr>\n      <th>30</th>\n      <td>7342867148</td>\n      <td>2023-05-11 15:52</td>\n      <td>W nawiązaniu do raportu bieżącego nr 8/2023 z...</td>\n    </tr>\n    <tr>\n      <th>31</th>\n      <td>7342867148</td>\n      <td>2023-05-10 18:41</td>\n      <td>Zarząd CD PROJEKT S.A. przekazuje w załączeni...</td>\n    </tr>\n    <tr>\n      <th>32</th>\n      <td>7342867148</td>\n      <td>2023-05-10 18:38</td>\n      <td>Zarząd CD PROJEKT Spółka Akcyjna („Spółka”) n...</td>\n    </tr>\n    <tr>\n      <th>33</th>\n      <td>7342867148</td>\n      <td>2023-05-10 18:21</td>\n      <td>Zarząd CD PROJEKT S.A. z siedzibą w Warszawie...</td>\n    </tr>\n    <tr>\n      <th>34</th>\n      <td>7342867148</td>\n      <td>2023-05-09 16:19</td>\n      <td>Zarząd CD PROJEKT S.A. z siedzibą w Warszawie...</td>\n    </tr>\n    <tr>\n      <th>35</th>\n      <td>7342867148</td>\n      <td>2023-05-08 18:20</td>\n      <td>Zarząd CD PROJEKT S.A. z siedzibą w Warszawie...</td>\n    </tr>\n    <tr>\n      <th>36</th>\n      <td>7342867148</td>\n      <td>2023-04-20 18:17</td>\n      <td>Zarząd CD PROJEKT Spółka Akcyjna z siedzibą w...</td>\n    </tr>\n    <tr>\n      <th>37</th>\n      <td>7342867148</td>\n      <td>2023-04-20 18:14</td>\n      <td>Zarząd CD PROJEKT Spółka Akcyjna z siedzibą w...</td>\n    </tr>\n    <tr>\n      <th>38</th>\n      <td>7342867148</td>\n      <td>2023-04-18 18:21</td>\n      <td>Zarząd Spółki CD PROJEKT Spółka Akcyjna z sie...</td>\n    </tr>\n    <tr>\n      <th>39</th>\n      <td>7342867148</td>\n      <td>2023-04-18 17:56</td>\n      <td>Zarząd Spółki pod firmą CD PROJEKT Spółka Akc...</td>\n    </tr>\n    <tr>\n      <th>40</th>\n      <td>7342867148</td>\n      <td>2023-04-11 17:45</td>\n      <td>Zarząd spółki CD PROJEKT S.A. z siedzibą w Wa...</td>\n    </tr>\n    <tr>\n      <th>41</th>\n      <td>7342867148</td>\n      <td>Michał Kubicki2023-05-16 12:35redaktor Bankier.pl</td>\n      <td>Największy polski producent gier zwalnia praco...</td>\n    </tr>\n    <tr>\n      <th>42</th>\n      <td>7342867148</td>\n      <td>2023-05-11 16:12</td>\n      <td>CD Projekt odwróci 21,5 mln zł z odpisu aktual...</td>\n    </tr>\n    <tr>\n      <th>43</th>\n      <td>7342867148</td>\n      <td>2023-05-11 02:34</td>\n      <td>Walne zgromadzenie CD Projekt, zwołane na 6 cz...</td>\n    </tr>\n    <tr>\n      <th>44</th>\n      <td>7342867148</td>\n      <td>2023-05-10 18:38, akt.2023-05-10 18:42</td>\n      <td>CD Projekt podjął decyzję o rezygnacji z dalsz...</td>\n    </tr>\n    <tr>\n      <th>45</th>\n      <td>7342867148</td>\n      <td>2023-05-08 18:28</td>\n      <td>Zarząd CD Projekt rekomenduje przeznaczenie na...</td>\n    </tr>\n    <tr>\n      <th>46</th>\n      <td>7342867148</td>\n      <td>2023-04-24 09:14</td>\n      <td>Analitycy DM BOŚ, w raporcie miesięcznym z 13 ...</td>\n    </tr>\n    <tr>\n      <th>47</th>\n      <td>7342867148</td>\n      <td>2023-04-20 18:46</td>\n      <td>CD Projekt podpisał plan połączenia ze spółką ...</td>\n    </tr>\n    <tr>\n      <th>48</th>\n      <td>7342867148</td>\n      <td>2023-04-18 10:42, akt.2023-04-18 11:11</td>\n      <td>Nadzwyczajne walne zgromadzenie CD Projektu \\n...</td>\n    </tr>\n    <tr>\n      <th>49</th>\n      <td>7342867148</td>\n      <td>Katarzyna Waś-Smarczewska2023-03-31 11:00, akt...</td>\n      <td>Urlop menstruacyjny będzie nowym benefitem pra...</td>\n    </tr>\n    <tr>\n      <th>50</th>\n      <td>7342867148</td>\n      <td>Michał Kubicki2023-03-30 19:10, akt.2023-03-31...</td>\n      <td>Największy polski producent gier pokazał wynik...</td>\n    </tr>\n    <tr>\n      <th>51</th>\n      <td>7342867148</td>\n      <td>2023-03-22 18:30</td>\n      <td>Walne zgromadzenie CD Projektu, zwołane na 18 ...</td>\n    </tr>\n    <tr>\n      <th>52</th>\n      <td>7342867148</td>\n      <td>Michał Kubicki2023-03-20 18:08, akt.2023-03-21...</td>\n      <td>Gra \"Sirius\", osadzona w uniwersum wiedźmiński...</td>\n    </tr>\n    <tr>\n      <th>53</th>\n      <td>7342867148</td>\n      <td>2023-02-28 17:58</td>\n      <td>Gra CD Projektu „Cyberpunk: 2077” 28 lutego zo...</td>\n    </tr>\n    <tr>\n      <th>54</th>\n      <td>7342867148</td>\n      <td>2023-02-09 09:50</td>\n      <td>Zapraszamy do uczestnictwa w webinarze poświęc...</td>\n    </tr>\n    <tr>\n      <th>55</th>\n      <td>7342867148</td>\n      <td>2023-01-25 11:02</td>\n      <td>Na sektor gamingu w 2023 roku należy patrzeć z...</td>\n    </tr>\n  </tbody>\n</table>\n</div>"
     },
     "execution_count": 2,
     "metadata": {},
     "output_type": "execute_result"
    }
   ],
   "source": [
    "news"
   ]
  },
  {
   "cell_type": "code",
   "execution_count": 3,
   "outputs": [
    {
     "name": "stderr",
     "output_type": "stream",
     "text": [
      "[nltk_data] Downloading package vader_lexicon to\n",
      "[nltk_data]     C:\\Users\\User\\AppData\\Roaming\\nltk_data...\n",
      "[nltk_data]   Package vader_lexicon is already up-to-date!\n",
      "[nltk_data] Downloading package wordnet to\n",
      "[nltk_data]     C:\\Users\\User\\AppData\\Roaming\\nltk_data...\n",
      "[nltk_data]   Package wordnet is already up-to-date!\n"
     ]
    }
   ],
   "source": [
    "from src.components.sentyment.Sentyment import get_sentyment_analysis,generate_time_table\n",
    "# _,otw=get_sentyment_analysis(news,news)"
   ],
   "metadata": {
    "collapsed": false,
    "pycharm": {
     "name": "#%%\n"
    }
   }
  },
  {
   "cell_type": "code",
   "execution_count": 4,
   "id": "88c636c9",
   "metadata": {
    "ExecuteTime": {
     "start_time": "2023-05-14T16:33:03.210358Z",
     "end_time": "2023-05-14T16:33:03.227815Z"
    },
    "pycharm": {
     "name": "#%%\n"
    }
   },
   "outputs": [
    {
     "data": {
      "text/plain": "'2023-05-11 15:52'"
     },
     "execution_count": 4,
     "metadata": {},
     "output_type": "execute_result"
    }
   ],
   "source": [
    "news.iloc[30].data"
   ]
  },
  {
   "cell_type": "code",
   "execution_count": 6,
   "outputs": [],
   "source": [
    "from src.components.sentyment.Sentyment import get_sentyment_analysis,generate_time_table\n",
    "_,otw=get_sentyment_analysis(news.loc[0:30],news.loc[0:30])"
   ],
   "metadata": {
    "collapsed": false,
    "pycharm": {
     "name": "#%%\n"
    }
   }
  },
  {
   "cell_type": "code",
   "execution_count": 5,
   "outputs": [
    {
     "data": {
      "text/plain": "           nip              data  \\\n0   7342867148  2023-05-22 16:36   \n1   7342867148  2023-05-22 18:41   \n2   7342867148  2023-05-10 20:20   \n3   7342867148  2023-04-07 22:30   \n4   7342867148  2023-05-22 17:14   \n5   7342867148  2023-05-22 17:40   \n6   7342867148  2023-05-17 13:37   \n7   7342867148  2023-05-22 18:26   \n8   7342867148  2023-05-08 22:16   \n9   7342867148  2023-05-22 18:23   \n10  7342867148  2023-05-19 16:27   \n11  7342867148  2023-05-22 14:36   \n12  7342867148  2023-05-18 14:53   \n13  7342867148  2023-05-20 11:04   \n14  7342867148  2023-05-16 09:36   \n15  7342867148  2023-05-22 17:07   \n16  7342867148  2023-05-22 17:04   \n17  7342867148  2023-05-22 16:52   \n18  7342867148  2023-05-22 17:03   \n19  7342867148  2023-05-22 16:48   \n20  7342867148  2023-05-22 16:54   \n21  7342867148  2023-05-22 16:49   \n22  7342867148  2023-05-22 16:41   \n23  7342867148  2023-05-16 12:52   \n24  7342867148  2023-05-15 13:26   \n25  7342867148  2023-05-22 15:33   \n26  7342867148  2023-05-22 12:53   \n27  7342867148  2023-05-19 11:19   \n28  7342867148  2023-05-22 16:18   \n29  7342867148  2023-05-22 15:37   \n30  7342867148  2023-05-11 15:52   \n\n                                            wiadomosc  \n0   Na GPW kupuje się spółki z kapitalizacją 200-8...  \n1         czuję wielką penetrację mojego oka saurona   \n2   niech oglaszaja wezwanie na akcje bo jak tylko...  \n3   Gdyby CD Projekt był taką okazją,jak to piszec...  \n4   Uciekać kto może i to już , wystawiać zlecenia...  \n5   I lecimy na 150huehue bo tak napisalaes to tak...  \n6   -DLC 3 lata po premierze. W branży  to powinno...  \n7   Czyżby rozszerzenie Cyberpunka to możliwość lo...  \n8   Większość drobnych inwestorów nie rozumie,że k...  \n9   W ciągu ostatnich sesji, setki razy skopiowałe...  \n10  WYGRZANA spółka,na której siędzą przepotężne f...  \n11  Rośnie prawdopodobieństwo short squeeza.Jeszcz...  \n12  https://youtu.be/gGCj5g1sxdoPoświeciłem pół go...  \n13  Nowe DLC wyceniam na kwotę 169zl.\\nZysk z 1 DL...  \n14  Na uwagę zasługują pozycje 480, 500 i 625. Jak...  \n15  Grzegorz Suteniec Dziennikarz Pulsu Biznesu zw...  \n16  Czytając wiele wpisów na forum tych poważnych ...  \n17  https://www.google.pl/amp/s/www.wnp.pl/finanse...  \n18  Tak to widzę \\nhttps://twitt er.com/cdprojektr...  \n19  Tyle podmiotów nie jest w stanie zgodnie podzi...  \n20  na grubym minusie, jeszcze parę takich akcji i...  \n21                Dług potężny kurs urósł 40 proc.!!!  \n22  Czy Wy zdajecie sobie sprawę kto to jest Black...  \n23  nikt nie wierzy w dobrą jakość cyberpunku. zau...  \n24  Wisielce pocieszają się jak mogąPrzepotężne fu...  \n25              Jabcok leszczeKUPUJ I TRZYMAJ NA LONG  \n26  https://www.biznesradar.pl/notowania/CD-PROJEK...  \n27  potem zwalomTu już tylko PÓŁNOC!!!Jak ci krótk...  \n28                      Dywidenda!\\nC/Z 15 średnia 22  \n29  BlackRock Investment Management (UK) Limited d...  \n30   W nawiązaniu do raportu bieżącego nr 8/2023 z...  ",
      "text/html": "<div>\n<style scoped>\n    .dataframe tbody tr th:only-of-type {\n        vertical-align: middle;\n    }\n\n    .dataframe tbody tr th {\n        vertical-align: top;\n    }\n\n    .dataframe thead th {\n        text-align: right;\n    }\n</style>\n<table border=\"1\" class=\"dataframe\">\n  <thead>\n    <tr style=\"text-align: right;\">\n      <th></th>\n      <th>nip</th>\n      <th>data</th>\n      <th>wiadomosc</th>\n    </tr>\n  </thead>\n  <tbody>\n    <tr>\n      <th>0</th>\n      <td>7342867148</td>\n      <td>2023-05-22 16:36</td>\n      <td>Na GPW kupuje się spółki z kapitalizacją 200-8...</td>\n    </tr>\n    <tr>\n      <th>1</th>\n      <td>7342867148</td>\n      <td>2023-05-22 18:41</td>\n      <td>czuję wielką penetrację mojego oka saurona</td>\n    </tr>\n    <tr>\n      <th>2</th>\n      <td>7342867148</td>\n      <td>2023-05-10 20:20</td>\n      <td>niech oglaszaja wezwanie na akcje bo jak tylko...</td>\n    </tr>\n    <tr>\n      <th>3</th>\n      <td>7342867148</td>\n      <td>2023-04-07 22:30</td>\n      <td>Gdyby CD Projekt był taką okazją,jak to piszec...</td>\n    </tr>\n    <tr>\n      <th>4</th>\n      <td>7342867148</td>\n      <td>2023-05-22 17:14</td>\n      <td>Uciekać kto może i to już , wystawiać zlecenia...</td>\n    </tr>\n    <tr>\n      <th>5</th>\n      <td>7342867148</td>\n      <td>2023-05-22 17:40</td>\n      <td>I lecimy na 150huehue bo tak napisalaes to tak...</td>\n    </tr>\n    <tr>\n      <th>6</th>\n      <td>7342867148</td>\n      <td>2023-05-17 13:37</td>\n      <td>-DLC 3 lata po premierze. W branży  to powinno...</td>\n    </tr>\n    <tr>\n      <th>7</th>\n      <td>7342867148</td>\n      <td>2023-05-22 18:26</td>\n      <td>Czyżby rozszerzenie Cyberpunka to możliwość lo...</td>\n    </tr>\n    <tr>\n      <th>8</th>\n      <td>7342867148</td>\n      <td>2023-05-08 22:16</td>\n      <td>Większość drobnych inwestorów nie rozumie,że k...</td>\n    </tr>\n    <tr>\n      <th>9</th>\n      <td>7342867148</td>\n      <td>2023-05-22 18:23</td>\n      <td>W ciągu ostatnich sesji, setki razy skopiowałe...</td>\n    </tr>\n    <tr>\n      <th>10</th>\n      <td>7342867148</td>\n      <td>2023-05-19 16:27</td>\n      <td>WYGRZANA spółka,na której siędzą przepotężne f...</td>\n    </tr>\n    <tr>\n      <th>11</th>\n      <td>7342867148</td>\n      <td>2023-05-22 14:36</td>\n      <td>Rośnie prawdopodobieństwo short squeeza.Jeszcz...</td>\n    </tr>\n    <tr>\n      <th>12</th>\n      <td>7342867148</td>\n      <td>2023-05-18 14:53</td>\n      <td>https://youtu.be/gGCj5g1sxdoPoświeciłem pół go...</td>\n    </tr>\n    <tr>\n      <th>13</th>\n      <td>7342867148</td>\n      <td>2023-05-20 11:04</td>\n      <td>Nowe DLC wyceniam na kwotę 169zl.\\nZysk z 1 DL...</td>\n    </tr>\n    <tr>\n      <th>14</th>\n      <td>7342867148</td>\n      <td>2023-05-16 09:36</td>\n      <td>Na uwagę zasługują pozycje 480, 500 i 625. Jak...</td>\n    </tr>\n    <tr>\n      <th>15</th>\n      <td>7342867148</td>\n      <td>2023-05-22 17:07</td>\n      <td>Grzegorz Suteniec Dziennikarz Pulsu Biznesu zw...</td>\n    </tr>\n    <tr>\n      <th>16</th>\n      <td>7342867148</td>\n      <td>2023-05-22 17:04</td>\n      <td>Czytając wiele wpisów na forum tych poważnych ...</td>\n    </tr>\n    <tr>\n      <th>17</th>\n      <td>7342867148</td>\n      <td>2023-05-22 16:52</td>\n      <td>https://www.google.pl/amp/s/www.wnp.pl/finanse...</td>\n    </tr>\n    <tr>\n      <th>18</th>\n      <td>7342867148</td>\n      <td>2023-05-22 17:03</td>\n      <td>Tak to widzę \\nhttps://twitt er.com/cdprojektr...</td>\n    </tr>\n    <tr>\n      <th>19</th>\n      <td>7342867148</td>\n      <td>2023-05-22 16:48</td>\n      <td>Tyle podmiotów nie jest w stanie zgodnie podzi...</td>\n    </tr>\n    <tr>\n      <th>20</th>\n      <td>7342867148</td>\n      <td>2023-05-22 16:54</td>\n      <td>na grubym minusie, jeszcze parę takich akcji i...</td>\n    </tr>\n    <tr>\n      <th>21</th>\n      <td>7342867148</td>\n      <td>2023-05-22 16:49</td>\n      <td>Dług potężny kurs urósł 40 proc.!!!</td>\n    </tr>\n    <tr>\n      <th>22</th>\n      <td>7342867148</td>\n      <td>2023-05-22 16:41</td>\n      <td>Czy Wy zdajecie sobie sprawę kto to jest Black...</td>\n    </tr>\n    <tr>\n      <th>23</th>\n      <td>7342867148</td>\n      <td>2023-05-16 12:52</td>\n      <td>nikt nie wierzy w dobrą jakość cyberpunku. zau...</td>\n    </tr>\n    <tr>\n      <th>24</th>\n      <td>7342867148</td>\n      <td>2023-05-15 13:26</td>\n      <td>Wisielce pocieszają się jak mogąPrzepotężne fu...</td>\n    </tr>\n    <tr>\n      <th>25</th>\n      <td>7342867148</td>\n      <td>2023-05-22 15:33</td>\n      <td>Jabcok leszczeKUPUJ I TRZYMAJ NA LONG</td>\n    </tr>\n    <tr>\n      <th>26</th>\n      <td>7342867148</td>\n      <td>2023-05-22 12:53</td>\n      <td>https://www.biznesradar.pl/notowania/CD-PROJEK...</td>\n    </tr>\n    <tr>\n      <th>27</th>\n      <td>7342867148</td>\n      <td>2023-05-19 11:19</td>\n      <td>potem zwalomTu już tylko PÓŁNOC!!!Jak ci krótk...</td>\n    </tr>\n    <tr>\n      <th>28</th>\n      <td>7342867148</td>\n      <td>2023-05-22 16:18</td>\n      <td>Dywidenda!\\nC/Z 15 średnia 22</td>\n    </tr>\n    <tr>\n      <th>29</th>\n      <td>7342867148</td>\n      <td>2023-05-22 15:37</td>\n      <td>BlackRock Investment Management (UK) Limited d...</td>\n    </tr>\n    <tr>\n      <th>30</th>\n      <td>7342867148</td>\n      <td>2023-05-11 15:52</td>\n      <td>W nawiązaniu do raportu bieżącego nr 8/2023 z...</td>\n    </tr>\n  </tbody>\n</table>\n</div>"
     },
     "execution_count": 5,
     "metadata": {},
     "output_type": "execute_result"
    }
   ],
   "source": [
    "news.loc[0:30]"
   ],
   "metadata": {
    "collapsed": false,
    "pycharm": {
     "name": "#%%\n"
    }
   }
  },
  {
   "cell_type": "code",
   "execution_count": 7,
   "outputs": [
    {
     "data": {
      "text/plain": "           nip          typ_oceny\n0   7342867148  slightly positive\n1   7342867148           positive\n2   7342867148           positive\n3   7342867148           positive\n4   7342867148           positive\n5   7342867148           positive\n6   7342867148  slightly positive\n7   7342867148  slightly positive\n8   7342867148  slightly positive\n9   7342867148           positive\n10  7342867148  slightly positive\n11  7342867148           positive\n12  7342867148           positive\n13  7342867148  slightly positive\n14  7342867148  slightly positive\n15  7342867148  slightly positive\n16  7342867148  slightly positive\n17  7342867148  slightly positive\n18  7342867148           positive\n19  7342867148           positive\n20  7342867148           positive\n21  7342867148           positive\n22  7342867148           positive\n23  7342867148           positive\n24  7342867148           positive\n25  7342867148           positive\n26  7342867148           positive\n27  7342867148  slightly positive\n28  7342867148           positive\n29  7342867148           positive\n30  7342867148  slightly positive",
      "text/html": "<div>\n<style scoped>\n    .dataframe tbody tr th:only-of-type {\n        vertical-align: middle;\n    }\n\n    .dataframe tbody tr th {\n        vertical-align: top;\n    }\n\n    .dataframe thead th {\n        text-align: right;\n    }\n</style>\n<table border=\"1\" class=\"dataframe\">\n  <thead>\n    <tr style=\"text-align: right;\">\n      <th></th>\n      <th>nip</th>\n      <th>typ_oceny</th>\n    </tr>\n  </thead>\n  <tbody>\n    <tr>\n      <th>0</th>\n      <td>7342867148</td>\n      <td>slightly positive</td>\n    </tr>\n    <tr>\n      <th>1</th>\n      <td>7342867148</td>\n      <td>positive</td>\n    </tr>\n    <tr>\n      <th>2</th>\n      <td>7342867148</td>\n      <td>positive</td>\n    </tr>\n    <tr>\n      <th>3</th>\n      <td>7342867148</td>\n      <td>positive</td>\n    </tr>\n    <tr>\n      <th>4</th>\n      <td>7342867148</td>\n      <td>positive</td>\n    </tr>\n    <tr>\n      <th>5</th>\n      <td>7342867148</td>\n      <td>positive</td>\n    </tr>\n    <tr>\n      <th>6</th>\n      <td>7342867148</td>\n      <td>slightly positive</td>\n    </tr>\n    <tr>\n      <th>7</th>\n      <td>7342867148</td>\n      <td>slightly positive</td>\n    </tr>\n    <tr>\n      <th>8</th>\n      <td>7342867148</td>\n      <td>slightly positive</td>\n    </tr>\n    <tr>\n      <th>9</th>\n      <td>7342867148</td>\n      <td>positive</td>\n    </tr>\n    <tr>\n      <th>10</th>\n      <td>7342867148</td>\n      <td>slightly positive</td>\n    </tr>\n    <tr>\n      <th>11</th>\n      <td>7342867148</td>\n      <td>positive</td>\n    </tr>\n    <tr>\n      <th>12</th>\n      <td>7342867148</td>\n      <td>positive</td>\n    </tr>\n    <tr>\n      <th>13</th>\n      <td>7342867148</td>\n      <td>slightly positive</td>\n    </tr>\n    <tr>\n      <th>14</th>\n      <td>7342867148</td>\n      <td>slightly positive</td>\n    </tr>\n    <tr>\n      <th>15</th>\n      <td>7342867148</td>\n      <td>slightly positive</td>\n    </tr>\n    <tr>\n      <th>16</th>\n      <td>7342867148</td>\n      <td>slightly positive</td>\n    </tr>\n    <tr>\n      <th>17</th>\n      <td>7342867148</td>\n      <td>slightly positive</td>\n    </tr>\n    <tr>\n      <th>18</th>\n      <td>7342867148</td>\n      <td>positive</td>\n    </tr>\n    <tr>\n      <th>19</th>\n      <td>7342867148</td>\n      <td>positive</td>\n    </tr>\n    <tr>\n      <th>20</th>\n      <td>7342867148</td>\n      <td>positive</td>\n    </tr>\n    <tr>\n      <th>21</th>\n      <td>7342867148</td>\n      <td>positive</td>\n    </tr>\n    <tr>\n      <th>22</th>\n      <td>7342867148</td>\n      <td>positive</td>\n    </tr>\n    <tr>\n      <th>23</th>\n      <td>7342867148</td>\n      <td>positive</td>\n    </tr>\n    <tr>\n      <th>24</th>\n      <td>7342867148</td>\n      <td>positive</td>\n    </tr>\n    <tr>\n      <th>25</th>\n      <td>7342867148</td>\n      <td>positive</td>\n    </tr>\n    <tr>\n      <th>26</th>\n      <td>7342867148</td>\n      <td>positive</td>\n    </tr>\n    <tr>\n      <th>27</th>\n      <td>7342867148</td>\n      <td>slightly positive</td>\n    </tr>\n    <tr>\n      <th>28</th>\n      <td>7342867148</td>\n      <td>positive</td>\n    </tr>\n    <tr>\n      <th>29</th>\n      <td>7342867148</td>\n      <td>positive</td>\n    </tr>\n    <tr>\n      <th>30</th>\n      <td>7342867148</td>\n      <td>slightly positive</td>\n    </tr>\n  </tbody>\n</table>\n</div>"
     },
     "execution_count": 7,
     "metadata": {},
     "output_type": "execute_result"
    }
   ],
   "source": [
    "otw"
   ],
   "metadata": {
    "collapsed": false,
    "pycharm": {
     "name": "#%%\n"
    }
   }
  },
  {
   "cell_type": "code",
   "execution_count": 8,
   "outputs": [
    {
     "data": {
      "text/plain": "'Na GPW kupuje się spółki z kapitalizacją 200-800 mln zł,które nie są w WIG20.Przykład Creepy Jar i CD Projekt.Obie spółki z gamingu,obie będą w tym roku lub przyszłym miały premiere dodatku lub całej gry.Obie spółki stworzyły przynajmniej jedną gre która sprzedała się w milionach.CDR wiadomo Wiedzminy i Cyberpunk,a Creepy Jar wyprodukował Green Hell,grę kupiło 4 mln graczy !!  Wróćmy do kapitalizacji,co predzej urośnie o 800%.........   Czy o 800% urośnie.........  Creepy Jar z kapitalizacją 500 mln zł? ,czy CD Projekt z kapitalizacją 11 mld zł?   Na GPW kupuje się spółki z kapitalizacją 200-800 mln zł,takie jak Creepy Jar,wcześniej czy później urośnie o  800%,a może i 1200%,kupuje się spółki zanim one staną się popularne i wylądują w WIG20.Dlaczego? bo w WIG20 to już rządzi zagranica i ona wyznacza kierunek i może wyznaczyć KAŻDY KIERUNEK.Zagranica,tzn fundy zagraniczne mają setki mld dolarów,to są gigantyczne pieniądze i fundy mogą wszystko,co widać na CD Projekt.Dlatego WIG20 z założenia,powinien być omijany przez drobnice.  piknie Cd dziś :) i tak trzymac i uśredniać w końcu w góręco do Cerpy to jakiś  niewielki pakiet  warto  trzymaćrozważam też te spółki co z applami mają współpracę ale zastanawiam się która może mieć najlepsze perspektywyktoś w temacie to zapodać co i dlaczego , to może wesprę Dzięki za info o spółce Creepy Jar.Kupiłem.Ciekawa spółka z niską kapitalizacją i ja tam widze za 2 lata znacznie wyższe wzrosty,niż 800 proc ;)Ale nagonka, pewnie nie możesz wyjść przy takich obrotach, co?Nie sądze by Konrad nie mógł wyjść,przy obrotach Creepy Jar.Konrad mi wygląda na 22-23 latka,a jaki może mieć kapitał,tak młody człowiek, 30 tys zł? 50 tys zł? przeciez nie 200 tys zł. Po prostu Konrad zacheca do zainteresowania się spółką CJ,akurat to ciekawa spółka,ze sporymi szansami na wzrost organiczny.Sprzedali Green Hell w 4 mln kopii,w polskim gamingu to takich spółek jest może ze cztery na 34 spółki,więc to bardzo ciekawa spółka.Z bardzo atrakcyjną kapitalizacją,która urośnie o setki procent ;) Dzisiaj obroty chyba 50 tyś. Jak można wyjść jak ktoś ma 50 tyś i chce od razu wejść w coś co rośnie? A kto wychodzi ze spółki podczas jednej sesji?  Od tygodnia jesteś na GPW? ,to po pierwsze.Po drugie,nie sądze by Konrad wychodził z Creepy Jar,gdyż spółka bardzo ciekawa.Raczej chodzi o sprowadzenie do Creepy Jar inwestorów długoterminowych z CD Projekt.Ja akurat skorzystałem ;)  spółka ma świetną ekipe deweloperów,sprzedać pierwszą gre w 4 mln egzemplarzy,tego nawet CD Projekt nie dokonał ;) takze mamy brylancik na GPW,ale mało kto o nim wie i o to chodzi,pieniądz lubi cisze ;)  Na CD Projekt wykreciłem kiedyś 730 proc. zysku,to na Creepy Jar zamierzam osiągnąć lepszy wynik ;) ale cicho szaaaaa,siedzcie tutai i czekajcie na 60 mld kapitalizacji ;)(wiadomość usunięta przez moderatora)Konrad często spamuje,ale trzyma poziom,a ty arcadius4 jestes po prostu wulgarny.Taki jezyk prostacki,to nie to forum.Idź sobie na portal Urbana.'"
     },
     "execution_count": 8,
     "metadata": {},
     "output_type": "execute_result"
    }
   ],
   "source": [
    "news.loc[0]['wiadomosc']"
   ],
   "metadata": {
    "collapsed": false,
    "pycharm": {
     "name": "#%%\n"
    }
   }
  },
  {
   "cell_type": "code",
   "execution_count": 4,
   "outputs": [
    {
     "data": {
      "text/plain": "                time_id  dzien  mesiac   rok  godzina\n0   2023-05-22 16:52:00     22       5  2023       16\n1   2023-05-22 17:14:00     22       5  2023       17\n2   2023-05-22 21:04:00     22       5  2023       21\n3   2023-05-19 11:19:00     19       5  2023       11\n4   2023-04-07 22:30:00      7       4  2023       22\n5   2023-05-17 13:37:00     17       5  2023       13\n6   2023-05-20 18:10:00     20       5  2023       18\n7   2023-05-22 21:24:00     22       5  2023       21\n8   2023-05-22 17:04:00     22       5  2023       17\n9   2023-05-22 21:18:00     22       5  2023       21\n10  2023-05-22 20:38:00     22       5  2023       20\n11  2023-05-14 18:39:00     14       5  2023       18\n12  2023-05-22 20:58:00     22       5  2023       20\n13  2023-05-22 21:02:00     22       5  2023       21\n14  2023-05-22 20:43:00     22       5  2023       20\n15  2023-05-22 20:47:00     22       5  2023       20\n16  2023-05-19 17:20:00     19       5  2023       17\n17  2023-05-22 20:01:00     22       5  2023       20\n18  2023-05-22 17:40:00     22       5  2023       17\n19  2023-05-22 16:36:00     22       5  2023       16\n20  2023-05-22 19:43:00     22       5  2023       19\n21  2023-05-08 22:16:00      8       5  2023       22\n22  2023-05-22 17:07:00     22       5  2023       17\n23  2023-05-22 18:48:00     22       5  2023       18\n24  2023-05-22 18:59:00     22       5  2023       18\n25  2023-05-22 18:50:00     22       5  2023       18\n26  2023-05-10 20:20:00     10       5  2023       20\n27  2023-05-22 18:41:00     22       5  2023       18\n28  2023-05-22 18:26:00     22       5  2023       18\n29  2023-05-22 18:23:00     22       5  2023       18\n30  2023-05-11 15:52:00     11       5  2023       15",
      "text/html": "<div>\n<style scoped>\n    .dataframe tbody tr th:only-of-type {\n        vertical-align: middle;\n    }\n\n    .dataframe tbody tr th {\n        vertical-align: top;\n    }\n\n    .dataframe thead th {\n        text-align: right;\n    }\n</style>\n<table border=\"1\" class=\"dataframe\">\n  <thead>\n    <tr style=\"text-align: right;\">\n      <th></th>\n      <th>time_id</th>\n      <th>dzien</th>\n      <th>mesiac</th>\n      <th>rok</th>\n      <th>godzina</th>\n    </tr>\n  </thead>\n  <tbody>\n    <tr>\n      <th>0</th>\n      <td>2023-05-22 16:52:00</td>\n      <td>22</td>\n      <td>5</td>\n      <td>2023</td>\n      <td>16</td>\n    </tr>\n    <tr>\n      <th>1</th>\n      <td>2023-05-22 17:14:00</td>\n      <td>22</td>\n      <td>5</td>\n      <td>2023</td>\n      <td>17</td>\n    </tr>\n    <tr>\n      <th>2</th>\n      <td>2023-05-22 21:04:00</td>\n      <td>22</td>\n      <td>5</td>\n      <td>2023</td>\n      <td>21</td>\n    </tr>\n    <tr>\n      <th>3</th>\n      <td>2023-05-19 11:19:00</td>\n      <td>19</td>\n      <td>5</td>\n      <td>2023</td>\n      <td>11</td>\n    </tr>\n    <tr>\n      <th>4</th>\n      <td>2023-04-07 22:30:00</td>\n      <td>7</td>\n      <td>4</td>\n      <td>2023</td>\n      <td>22</td>\n    </tr>\n    <tr>\n      <th>5</th>\n      <td>2023-05-17 13:37:00</td>\n      <td>17</td>\n      <td>5</td>\n      <td>2023</td>\n      <td>13</td>\n    </tr>\n    <tr>\n      <th>6</th>\n      <td>2023-05-20 18:10:00</td>\n      <td>20</td>\n      <td>5</td>\n      <td>2023</td>\n      <td>18</td>\n    </tr>\n    <tr>\n      <th>7</th>\n      <td>2023-05-22 21:24:00</td>\n      <td>22</td>\n      <td>5</td>\n      <td>2023</td>\n      <td>21</td>\n    </tr>\n    <tr>\n      <th>8</th>\n      <td>2023-05-22 17:04:00</td>\n      <td>22</td>\n      <td>5</td>\n      <td>2023</td>\n      <td>17</td>\n    </tr>\n    <tr>\n      <th>9</th>\n      <td>2023-05-22 21:18:00</td>\n      <td>22</td>\n      <td>5</td>\n      <td>2023</td>\n      <td>21</td>\n    </tr>\n    <tr>\n      <th>10</th>\n      <td>2023-05-22 20:38:00</td>\n      <td>22</td>\n      <td>5</td>\n      <td>2023</td>\n      <td>20</td>\n    </tr>\n    <tr>\n      <th>11</th>\n      <td>2023-05-14 18:39:00</td>\n      <td>14</td>\n      <td>5</td>\n      <td>2023</td>\n      <td>18</td>\n    </tr>\n    <tr>\n      <th>12</th>\n      <td>2023-05-22 20:58:00</td>\n      <td>22</td>\n      <td>5</td>\n      <td>2023</td>\n      <td>20</td>\n    </tr>\n    <tr>\n      <th>13</th>\n      <td>2023-05-22 21:02:00</td>\n      <td>22</td>\n      <td>5</td>\n      <td>2023</td>\n      <td>21</td>\n    </tr>\n    <tr>\n      <th>14</th>\n      <td>2023-05-22 20:43:00</td>\n      <td>22</td>\n      <td>5</td>\n      <td>2023</td>\n      <td>20</td>\n    </tr>\n    <tr>\n      <th>15</th>\n      <td>2023-05-22 20:47:00</td>\n      <td>22</td>\n      <td>5</td>\n      <td>2023</td>\n      <td>20</td>\n    </tr>\n    <tr>\n      <th>16</th>\n      <td>2023-05-19 17:20:00</td>\n      <td>19</td>\n      <td>5</td>\n      <td>2023</td>\n      <td>17</td>\n    </tr>\n    <tr>\n      <th>17</th>\n      <td>2023-05-22 20:01:00</td>\n      <td>22</td>\n      <td>5</td>\n      <td>2023</td>\n      <td>20</td>\n    </tr>\n    <tr>\n      <th>18</th>\n      <td>2023-05-22 17:40:00</td>\n      <td>22</td>\n      <td>5</td>\n      <td>2023</td>\n      <td>17</td>\n    </tr>\n    <tr>\n      <th>19</th>\n      <td>2023-05-22 16:36:00</td>\n      <td>22</td>\n      <td>5</td>\n      <td>2023</td>\n      <td>16</td>\n    </tr>\n    <tr>\n      <th>20</th>\n      <td>2023-05-22 19:43:00</td>\n      <td>22</td>\n      <td>5</td>\n      <td>2023</td>\n      <td>19</td>\n    </tr>\n    <tr>\n      <th>21</th>\n      <td>2023-05-08 22:16:00</td>\n      <td>8</td>\n      <td>5</td>\n      <td>2023</td>\n      <td>22</td>\n    </tr>\n    <tr>\n      <th>22</th>\n      <td>2023-05-22 17:07:00</td>\n      <td>22</td>\n      <td>5</td>\n      <td>2023</td>\n      <td>17</td>\n    </tr>\n    <tr>\n      <th>23</th>\n      <td>2023-05-22 18:48:00</td>\n      <td>22</td>\n      <td>5</td>\n      <td>2023</td>\n      <td>18</td>\n    </tr>\n    <tr>\n      <th>24</th>\n      <td>2023-05-22 18:59:00</td>\n      <td>22</td>\n      <td>5</td>\n      <td>2023</td>\n      <td>18</td>\n    </tr>\n    <tr>\n      <th>25</th>\n      <td>2023-05-22 18:50:00</td>\n      <td>22</td>\n      <td>5</td>\n      <td>2023</td>\n      <td>18</td>\n    </tr>\n    <tr>\n      <th>26</th>\n      <td>2023-05-10 20:20:00</td>\n      <td>10</td>\n      <td>5</td>\n      <td>2023</td>\n      <td>20</td>\n    </tr>\n    <tr>\n      <th>27</th>\n      <td>2023-05-22 18:41:00</td>\n      <td>22</td>\n      <td>5</td>\n      <td>2023</td>\n      <td>18</td>\n    </tr>\n    <tr>\n      <th>28</th>\n      <td>2023-05-22 18:26:00</td>\n      <td>22</td>\n      <td>5</td>\n      <td>2023</td>\n      <td>18</td>\n    </tr>\n    <tr>\n      <th>29</th>\n      <td>2023-05-22 18:23:00</td>\n      <td>22</td>\n      <td>5</td>\n      <td>2023</td>\n      <td>18</td>\n    </tr>\n    <tr>\n      <th>30</th>\n      <td>2023-05-11 15:52:00</td>\n      <td>11</td>\n      <td>5</td>\n      <td>2023</td>\n      <td>15</td>\n    </tr>\n  </tbody>\n</table>\n</div>"
     },
     "execution_count": 4,
     "metadata": {},
     "output_type": "execute_result"
    }
   ],
   "source": [
    "generate_time_table(news.loc[0:30])"
   ],
   "metadata": {
    "collapsed": false,
    "pycharm": {
     "name": "#%%\n"
    }
   }
  },
  {
   "cell_type": "code",
   "execution_count": null,
   "outputs": [],
   "source": [],
   "metadata": {
    "collapsed": false,
    "pycharm": {
     "name": "#%%\n"
    }
   }
  }
 ],
 "metadata": {
  "kernelspec": {
   "display_name": "Python 3 (ipykernel)",
   "language": "python",
   "name": "python3"
  },
  "language_info": {
   "codemirror_mode": {
    "name": "ipython",
    "version": 3
   },
   "file_extension": ".py",
   "mimetype": "text/x-python",
   "name": "python",
   "nbconvert_exporter": "python",
   "pygments_lexer": "ipython3",
   "version": "3.10.7"
  }
 },
 "nbformat": 4,
 "nbformat_minor": 5
}