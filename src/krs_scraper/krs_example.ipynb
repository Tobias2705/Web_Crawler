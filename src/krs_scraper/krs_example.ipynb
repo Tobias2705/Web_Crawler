{
 "cells": [
  {
   "cell_type": "markdown",
   "metadata": {},
   "source": [
    "# KRS Scrapper example"
   ]
  },
  {
   "cell_type": "code",
   "execution_count": 5,
   "metadata": {},
   "outputs": [
    {
     "name": "stdout",
     "output_type": "stream",
     "text": [
      "{'Adres WWW': 'WWW.SANTANDER.PL',\n",
      " 'Członkowie reprezentacji': [{'funkcja': 'WICEPREZES ZARZĄDU',\n",
      "                               'imie_drugie': '-',\n",
      "                               'imie_pierwsze': 'ANDRZEJ',\n",
      "                               'nazwisko': 'BURLIGA',\n",
      "                               'nazwisko_drugi_czlon': '-'},\n",
      "                              {'funkcja': 'WICEPREZES ZARZĄDU',\n",
      "                               'imie_drugie': '-',\n",
      "                               'imie_pierwsze': 'JUAN',\n",
      "                               'nazwisko': 'DE PORRAS',\n",
      "                               'nazwisko_drugi_czlon': 'AGUIRRE'},\n",
      "                              {'funkcja': 'PREZES ZARZĄDU',\n",
      "                               'imie_drugie': '-',\n",
      "                               'imie_pierwsze': 'MICHAŁ',\n",
      "                               'nazwisko': 'GAJEWSKI',\n",
      "                               'nazwisko_drugi_czlon': '-'},\n",
      "                              {'funkcja': 'CZŁONEK ZARZĄDU',\n",
      "                               'imie_drugie': '-',\n",
      "                               'imie_pierwsze': 'MACIEJ',\n",
      "                               'nazwisko': 'RELUGA',\n",
      "                               'nazwisko_drugi_czlon': '-'},\n",
      "                              {'funkcja': 'WICEPREZES ZARZĄDU',\n",
      "                               'imie_drugie': 'WIKTOR',\n",
      "                               'imie_pierwsze': 'ARKADIUSZ',\n",
      "                               'nazwisko': 'PRZYBYŁ',\n",
      "                               'nazwisko_drugi_czlon': '-'},\n",
      "                              {'funkcja': 'CZŁONEK ZARZĄDU',\n",
      "                               'imie_drugie': 'IZABELA',\n",
      "                               'imie_pierwsze': 'DOROTA',\n",
      "                               'nazwisko': 'STROJKOWSKA',\n",
      "                               'nazwisko_drugi_czlon': '-'},\n",
      "                              {'funkcja': 'CZŁONEK ZARZĄDU',\n",
      "                               'imie_drugie': '-',\n",
      "                               'imie_pierwsze': 'PATRYK',\n",
      "                               'nazwisko': 'NOWAKOWSKI',\n",
      "                               'nazwisko_drugi_czlon': '-'},\n",
      "                              {'funkcja': 'CZŁONEK ZARZĄDU',\n",
      "                               'imie_drugie': '-',\n",
      "                               'imie_pierwsze': 'LECH',\n",
      "                               'nazwisko': 'GAŁKOWSKI',\n",
      "                               'nazwisko_drugi_czlon': '-'},\n",
      "                              {'funkcja': 'CZŁONEK ZARZĄDU',\n",
      "                               'imie_drugie': 'ELENA',\n",
      "                               'imie_pierwsze': 'MARÍA',\n",
      "                               'nazwisko': 'LANCIEGO',\n",
      "                               'nazwisko_drugi_czlon': 'PÉREZ'}],\n",
      " 'Data wpisu do Rejestru Przedsiębiorców': '27.04.2001',\n",
      " 'Data wykreślenia z Rejestru Przedsiębiorców': '-',\n",
      " 'E-mail': '-',\n",
      " 'Forma prawna': 'SPÓŁKA AKCYJNA',\n",
      " 'Nazwa organu reprezentacji': 'ZARZĄD',\n",
      " 'Sposób reprezentacji': 'DO SKŁADANIA OŚWIADCZEŃ WOLI W IMIENIU BANKU '\n",
      "                         'UMOCOWANI SĄ: A) PREZES ZARZĄDU - SAMODZIELNIE B) '\n",
      "                         'DWAJ CZŁONKOWIE ZARZĄDU ŁĄCZNIE ALBO CZŁONEK ZARZĄDU '\n",
      "                         'DZIAŁAJĄCY ŁĄCZNIE Z PROKURENTEM, ALBO DWAJ '\n",
      "                         'PROKURENCI ŁĄCZNIE. MOGĄ BYĆ USTANOWIENI '\n",
      "                         'PEŁNOMOCNICY DZIAŁAJĄCY SAMODZIELNIE ALBO ŁĄCZNIE Z '\n",
      "                         'OSOBĄ, WYMIENIONA, W PKT B/, ALBO Z INNYM '\n",
      "                         'PEŁNOMOCNIKIEM'}\n"
     ]
    }
   ],
   "source": [
    "from krs_scrapper import *\n",
    "\n",
    "scraper = KrsScrapper(8960005673, 'NIP', headless=True)\n",
    "# scraper = KrsScrapper(5261184467, 'NIP')\n",
    "\n",
    "pp = pprint.PrettyPrinter()\n",
    "pp.pprint(scraper.scrap()) # returns dict"
   ]
  }
 ],
 "metadata": {
  "kernelspec": {
   "display_name": "Python 3",
   "language": "python",
   "name": "python3"
  },
  "language_info": {
   "codemirror_mode": {
    "name": "ipython",
    "version": 3
   },
   "file_extension": ".py",
   "mimetype": "text/x-python",
   "name": "python",
   "nbconvert_exporter": "python",
   "pygments_lexer": "ipython3",
   "version": "3.11.2"
  },
  "orig_nbformat": 4
 },
 "nbformat": 4,
 "nbformat_minor": 2
}
