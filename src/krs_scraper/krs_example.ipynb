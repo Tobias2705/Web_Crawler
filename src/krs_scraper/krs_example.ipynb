{
 "cells": [
  {
   "attachments": {},
   "cell_type": "markdown",
   "metadata": {},
   "source": [
    "# KRS Scrapper example"
   ]
  },
  {
   "cell_type": "code",
   "execution_count": 1,
   "metadata": {},
   "outputs": [
    {
     "name": "stdout",
     "output_type": "stream",
     "text": [
      "{'nazwa': 'CD PROJEKT SPÓŁKA AKCYJNA', 'krs': '0000006865', 'nip': '7342867148', 'regon': '49270733300000', 'forma_prawna': 'SPÓŁKA AKCYJNA', 'data_wpisu_do_rej_przeds': '06.04.2001', 'data_wykr_z_rej_przeds': '-', 'nazwa_org_repr': 'ZARZĄD', 'sposob_repr': 'W PRZYPADKU ZARZĄDU JEDNOOSOBOWEGO DO REPREZENTOWANIA SPÓŁKI UPOWAŻNIONY JEST JEDNOOSOBOWO CZŁONEK ZARZĄDU. W PRZYPADKU POWOŁANIA ZARZĄDU WIELOOSOBOWEGO DO REPREZENTOWANIA SPÓŁKI UPOWAŻNIENI SĄ DWAJ CZŁONKOWIE ZARZĄDU DZIAŁAJĄCY ŁĄCZNIE ALBO JEDEN CZŁONEK ZARZĄDU DZIAŁAJĄCY ŁĄCZNIE Z PROKURENTEM.', 'adr_www': 'WWW.CDPROJEKT.COM', 'email': 'GIELDA@CDPROJEKT.COM'}\n",
      "          nip     nazwisko nazwisko_drugi_czlon imie_pierwsze    imie_drugie  \\\n",
      "0  7342867148     KICIŃSKI                    -          ADAM         MICHAŁ   \n",
      "1  7342867148  NIELUBOWICZ                    -         PIOTR         MARCIN   \n",
      "2  7342867148     BADOWSKI                    -          ADAM         KONRAD   \n",
      "3  7342867148   NOWAKOWSKI                    -        MICHAŁ        ANDRZEJ   \n",
      "4  7342867148    KARWOWSKI                    -         PIOTR          PAWEŁ   \n",
      "5  7342867148      ZAWODNY                    -         PAWEŁ      KRZYSZTOF   \n",
      "6  7342867148         COHN                    -      JEREMIAH  SARMAD INAYAT   \n",
      "\n",
      "                                   funkcja  \n",
      "0                           PREZES ZARZĄDU  \n",
      "1  WICEPREZES ZARZĄDU DO SPRAW FINANSOWYCH  \n",
      "2                          CZŁONEK ZARZĄDU  \n",
      "3                          CZŁONEK ZARZĄDU  \n",
      "4                          CZŁONEK ZARZĄDU  \n",
      "5                          CZŁONEK ZARZĄDU  \n",
      "6                          CZŁONEK ZARZĄDU  \n"
     ]
    }
   ],
   "source": [
    "from krs_scrapper import *\n",
    "\n",
    "scraper = KrsScrapper('7342867148', 'NIP')\n",
    "general_info, representants = scraper.scrap()\n",
    "print(general_info)\n",
    "print(representants)"
   ]
  }
 ],
 "metadata": {
  "kernelspec": {
   "display_name": "Python 3",
   "language": "python",
   "name": "python3"
  },
  "language_info": {
   "codemirror_mode": {
    "name": "ipython",
    "version": 3
   },
   "file_extension": ".py",
   "mimetype": "text/x-python",
   "name": "python",
   "nbconvert_exporter": "python",
   "pygments_lexer": "ipython3",
   "version": "3.11.2"
  },
  "orig_nbformat": 4
 },
 "nbformat": 4,
 "nbformat_minor": 2
}
